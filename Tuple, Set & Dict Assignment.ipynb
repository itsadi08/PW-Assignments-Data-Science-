{
 "cells": [
  {
   "cell_type": "markdown",
   "id": "31732b45",
   "metadata": {},
   "source": [
    "#### Q1 What are the characteristics of the tuples? Is tuple immutable?\n",
    "\n",
    "Tuple is a built in data type which is a collection of multiple items which are stored in a single variable enclosed \n",
    "by round paranthesis.They are ordered (order can't be changed),immutable(items can't be changed, added or removed once tuple\n",
    "is created) but tuple allows duplicate values.Tuple with single item to be written as t=(\"a\",).\n",
    "\n",
    "t=(\"A\",\"B\",\"C\",\"C\")\n",
    "type(t)"
   ]
  },
  {
   "cell_type": "code",
   "execution_count": 3,
   "id": "fc290788",
   "metadata": {},
   "outputs": [
    {
     "ename": "AttributeError",
     "evalue": "'tuple' object has no attribute 'append'",
     "output_type": "error",
     "traceback": [
      "\u001b[1;31m---------------------------------------------------------------------------\u001b[0m",
      "\u001b[1;31mAttributeError\u001b[0m                            Traceback (most recent call last)",
      "Input \u001b[1;32mIn [3]\u001b[0m, in \u001b[0;36m<cell line: 1>\u001b[1;34m()\u001b[0m\n\u001b[1;32m----> 1\u001b[0m \u001b[43mt\u001b[49m\u001b[38;5;241;43m.\u001b[39;49m\u001b[43mappend\u001b[49m(\u001b[38;5;124m\"\u001b[39m\u001b[38;5;124mA\u001b[39m\u001b[38;5;124m\"\u001b[39m)\n",
      "\u001b[1;31mAttributeError\u001b[0m: 'tuple' object has no attribute 'append'"
     ]
    }
   ],
   "source": [
    "t.append(\"A\") \n",
    "# In order to mutate tuple but it can be converted into list & then again change into tuple or by adding tuple into tuple."
   ]
  },
  {
   "cell_type": "markdown",
   "id": "a0774ed3",
   "metadata": {},
   "source": [
    "#### Q2 What are the two tuple methods in python? Give an example of each method. Give a reason why tuples have only two in-built methods as compared to Lists.?\n",
    "\n",
    "Tuple has only 2 methods i.e Count() and Index(). Count() returns no. of times a value occurred whereas Index() returns\n",
    "the first index of value in tuple. List have more built in methods as compared to tuples because of its mutable character."
   ]
  },
  {
   "cell_type": "code",
   "execution_count": 5,
   "id": "d608142f",
   "metadata": {},
   "outputs": [
    {
     "data": {
      "text/plain": [
       "2"
      ]
     },
     "execution_count": 5,
     "metadata": {},
     "output_type": "execute_result"
    }
   ],
   "source": [
    "t1=(1,1,2,2,3,4,5,6,7) # Count Method\n",
    "t1.count(2)"
   ]
  },
  {
   "cell_type": "code",
   "execution_count": 7,
   "id": "292dc4ec",
   "metadata": {},
   "outputs": [
    {
     "data": {
      "text/plain": [
       "6"
      ]
     },
     "execution_count": 7,
     "metadata": {},
     "output_type": "execute_result"
    }
   ],
   "source": [
    "t1.index(5)"
   ]
  },
  {
   "cell_type": "markdown",
   "id": "71945450",
   "metadata": {},
   "source": [
    "#### Q3Which collection datatypes in python do not allow duplicate items? Write a code using a set to remove duplicates from the given list.\n",
    "\n",
    "Sets are the collection datatypes in python which do not allow duplicate items.Sets are unordered ,unindexed (stores items in hashable form) and unchangeable ( but items can be added-S.add() or removed- S.remove/discard()).Sets are written with curly braces {a,b,} & stores unique information."
   ]
  },
  {
   "cell_type": "code",
   "execution_count": 9,
   "id": "1a1c0032",
   "metadata": {},
   "outputs": [
    {
     "data": {
      "text/plain": [
       "{1, 2, 3, 4, 5, 6, 7, 8}"
      ]
     },
     "execution_count": 9,
     "metadata": {},
     "output_type": "execute_result"
    }
   ],
   "source": [
    "set1={1,1,1,1,2,3,4,5,6,6,6,6,6,7,8}\n",
    "set1"
   ]
  },
  {
   "cell_type": "code",
   "execution_count": 11,
   "id": "f422790e",
   "metadata": {},
   "outputs": [
    {
     "data": {
      "text/plain": [
       "{1, 2, 3, 4}"
      ]
     },
     "execution_count": 11,
     "metadata": {},
     "output_type": "execute_result"
    }
   ],
   "source": [
    "List = [1, 1, 1, 2, 1, 3, 1, 4, 2, 1, 2, 2, 2, 3, 2, 4, 3, 1, 3, 2, 3, 3, 3, 4, 4, 1, 4, 2, 4, 3, 4, 4]\n",
    "set(List)\n"
   ]
  },
  {
   "cell_type": "markdown",
   "id": "770ba3ca",
   "metadata": {},
   "source": [
    "#### Q4. Explain the difference between the union() and update() methods for a set. Give an example of each method.\n",
    "\n",
    "Union Method- Return a new set containing the union of sets.No effect on original set.\n",
    "Update Method- Update the set with the union of this set and others. Will update the set on which method is applied\n",
    "The object does not have to be a set, it can be iterable object (tuples, lists, dictionaries etc.).\n",
    "    "
   ]
  },
  {
   "cell_type": "code",
   "execution_count": 21,
   "id": "fa701254",
   "metadata": {},
   "outputs": [
    {
     "data": {
      "text/plain": [
       "{1, 2, 3, 4, 5, 6, 7, 8, 9, 10}"
      ]
     },
     "execution_count": 21,
     "metadata": {},
     "output_type": "execute_result"
    }
   ],
   "source": [
    "s1={1,2,3,4,5}\n",
    "s2={6,7,8,9,10}\n",
    "s1.union(s2)"
   ]
  },
  {
   "cell_type": "code",
   "execution_count": 23,
   "id": "c4977877",
   "metadata": {},
   "outputs": [
    {
     "data": {
      "text/plain": [
       "{1, 2, 3, 4, 5, 7, 9}"
      ]
     },
     "execution_count": 23,
     "metadata": {},
     "output_type": "execute_result"
    }
   ],
   "source": [
    "s1={1,2,3,4,5}\n",
    "s3=[1,7,9]\n",
    "s1.update(s3)\n",
    "s1"
   ]
  },
  {
   "cell_type": "markdown",
   "id": "010f5088",
   "metadata": {},
   "source": [
    "#### Q5. What is a dictionary? Give an example. Also, state whether a dictionary is ordered or unordered.\n",
    "\n",
    "Dictionaries are used to store data values in key:value pairs. Dictionaries are ordered,changeable and don't allow duplicates."
   ]
  },
  {
   "cell_type": "code",
   "execution_count": 34,
   "id": "aed5b8ff",
   "metadata": {},
   "outputs": [
    {
     "data": {
      "text/plain": [
       "{'A': False, 'B': 2, 'C': True}"
      ]
     },
     "execution_count": 34,
     "metadata": {},
     "output_type": "execute_result"
    }
   ],
   "source": [
    "Dict1={\"A\":1,\"B\":2,\"C\":True}\n",
    "#Dict1[\"C\"]\n",
    "#Dict1.get(\"A\")\n",
    "#Dict1.keys()\n",
    "#Dict1.values()\n",
    "#Dict1.items()- As a tuple\n",
    "Dict1.update({\"A\":False})\n",
    "Dict1"
   ]
  },
  {
   "cell_type": "markdown",
   "id": "06bcd3ad",
   "metadata": {},
   "source": [
    "#### Q6. Can we create a nested dictionary? If so, please give an example by creating a simple one-level nested dictionary.\n",
    "\n",
    "A dictionary can contain dictionaries in it which is called nested dictionary."
   ]
  },
  {
   "cell_type": "code",
   "execution_count": 35,
   "id": "93a50b61",
   "metadata": {},
   "outputs": [],
   "source": [
    "dict2={\"Participant1\":{\"Name\":\"A\"},\"Participant2\":{\"Name\":\"B\"},\"Participant\":{\"Name\":\"C\"}}"
   ]
  },
  {
   "cell_type": "code",
   "execution_count": 39,
   "id": "b4787f81",
   "metadata": {},
   "outputs": [
    {
     "data": {
      "text/plain": [
       "{'Participant1': {'Name': 'A'},\n",
       " 'Participant2': {'Name': 'B'},\n",
       " 'Participant': {'Name': 'C'}}"
      ]
     },
     "execution_count": 39,
     "metadata": {},
     "output_type": "execute_result"
    }
   ],
   "source": [
    "dict2\n",
    "#dict2[\"Participant2\"]"
   ]
  },
  {
   "cell_type": "markdown",
   "id": "2b584938",
   "metadata": {},
   "source": [
    "#### Q7. Using setdefault() method, create key named topics in the given dictionary and also add the value of the key as this list ['Python', 'Machine Learning’, 'Deep Learning']  dict1 = {'language' : 'Python', 'course': 'Data Science Masters'}\n",
    "\n",
    "Setdefault() method returns the value of the item with the specified key. If the key doesn't exist this value setdefault(key,value)  becomes key's value."
   ]
  },
  {
   "cell_type": "code",
   "execution_count": 47,
   "id": "f550bd1c",
   "metadata": {},
   "outputs": [
    {
     "data": {
      "text/plain": [
       "{'language': 'Python',\n",
       " 'course': 'Data Science Masters',\n",
       " 'topics': ['Python', 'Machine Learning', 'Deep Learning']}"
      ]
     },
     "execution_count": 47,
     "metadata": {},
     "output_type": "execute_result"
    }
   ],
   "source": [
    "dict1 = {'language' : 'Python', 'course': 'Data Science Masters'}\n",
    "dict1.setdefault(\"topics\",[\"Python\", \"Machine Learning\",\"Deep Learning\"])\n",
    "dict1"
   ]
  },
  {
   "cell_type": "markdown",
   "id": "7da615bb",
   "metadata": {},
   "source": [
    "#### Q8. What are the three view objects in dictionaries? Use the three in-built methods in python to display these three view objects for the given dictionary.  dict1 = {'Sport': 'Cricket' , 'Teams': ['India', 'Australia', 'England', 'South Africa', 'Sri Lanka', 'New Zealand']}\n",
    "\n",
    "Keys, Values,Items are the three view objects in dictionaries."
   ]
  },
  {
   "cell_type": "code",
   "execution_count": 40,
   "id": "84d1a132",
   "metadata": {},
   "outputs": [],
   "source": [
    "dict1 = {'Sport': 'Cricket' , 'Teams': ['India', 'Australia', 'England', 'South Africa', 'Sri Lanka', 'New Zealand']}"
   ]
  },
  {
   "cell_type": "code",
   "execution_count": 42,
   "id": "201c7bc0",
   "metadata": {},
   "outputs": [
    {
     "data": {
      "text/plain": [
       "dict_keys(['Sport', 'Teams'])"
      ]
     },
     "execution_count": 42,
     "metadata": {},
     "output_type": "execute_result"
    }
   ],
   "source": [
    "dict1.keys() # represent key values from dict1"
   ]
  },
  {
   "cell_type": "code",
   "execution_count": 43,
   "id": "00fe9aaf",
   "metadata": {},
   "outputs": [
    {
     "data": {
      "text/plain": [
       "dict_values(['Cricket', ['India', 'Australia', 'England', 'South Africa', 'Sri Lanka', 'New Zealand']])"
      ]
     },
     "execution_count": 43,
     "metadata": {},
     "output_type": "execute_result"
    }
   ],
   "source": [
    "dict1.values() # represent values from dict1"
   ]
  },
  {
   "cell_type": "code",
   "execution_count": 44,
   "id": "7c2c15f7",
   "metadata": {},
   "outputs": [
    {
     "data": {
      "text/plain": [
       "dict_items([('Sport', 'Cricket'), ('Teams', ['India', 'Australia', 'England', 'South Africa', 'Sri Lanka', 'New Zealand'])])"
      ]
     },
     "execution_count": 44,
     "metadata": {},
     "output_type": "execute_result"
    }
   ],
   "source": [
    "dict1.items()# represent key:value pairs from dict1"
   ]
  }
 ],
 "metadata": {
  "kernelspec": {
   "display_name": "Python 3 (ipykernel)",
   "language": "python",
   "name": "python3"
  },
  "language_info": {
   "codemirror_mode": {
    "name": "ipython",
    "version": 3
   },
   "file_extension": ".py",
   "mimetype": "text/x-python",
   "name": "python",
   "nbconvert_exporter": "python",
   "pygments_lexer": "ipython3",
   "version": "3.9.12"
  }
 },
 "nbformat": 4,
 "nbformat_minor": 5
}
